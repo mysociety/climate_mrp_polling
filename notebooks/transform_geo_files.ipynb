{
 "cells": [
  {
   "cell_type": "code",
   "execution_count": 1,
   "metadata": {},
   "outputs": [
    {
     "name": "stdout",
     "output_type": "stream",
     "text": [
      "Converting ../data/private/geojson/Local_Authority_Districts_(May_2021)_UK_BFC.geojson to geopackage\n",
      "Converting ../data/private/geojson/Westminster_Parliamentary_Constituencies_(Dec_2021)_UK_BFC.geojson to geopackage\n"
     ]
    }
   ],
   "source": [
    "# given files in private / geojson, convert to geopackage and save in raw / geopackages\n",
    "\n",
    "import geopandas as gpd\n",
    "from pathlib import Path\n",
    "\n",
    "geopackages_path = Path(\"..\", \"data\", \"private\", \"geojson\")\n",
    "output_dir = Path(\"..\", \"data\", \"raw\", \"geopackages\")\n",
    "\n",
    "if output_dir.exists() is False:\n",
    "    output_dir.mkdir(parents=True)\n",
    "\n",
    "# read in all geojson files and convert to geopackage\n",
    "for geojson_file in geopackages_path.glob(\"*.geojson\"):\n",
    "    print(f\"Converting {geojson_file} to geopackage\")\n",
    "    gdf = gpd.read_file(geojson_file)\n",
    "    gdf.to_file(output_dir / geojson_file.with_suffix(\".gpkg\").name, driver=\"GPKG\")"
   ]
  },
  {
   "cell_type": "code",
   "execution_count": 2,
   "metadata": {},
   "outputs": [
    {
     "name": "stdout",
     "output_type": "stream",
     "text": [
      "Local_Authority_Districts_(May_2021)_UK_BFC.gpkg is 85.74976 MB\n",
      "Westminster_Parliamentary_Constituencies_(Dec_2021)_UK_BFC.gpkg is 98.59072 MB\n"
     ]
    }
   ],
   "source": [
    "# show the size in MB of the geopackage\n",
    "for geopackage in output_dir.glob(\"*.gpkg\"):\n",
    "    print(f\"{geopackage.name} is {geopackage.stat().st_size / 1e6} MB\")"
   ]
  }
 ],
 "metadata": {
  "kernelspec": {
   "display_name": "Python 3",
   "language": "python",
   "name": "python3"
  },
  "language_info": {
   "codemirror_mode": {
    "name": "ipython",
    "version": 3
   },
   "file_extension": ".py",
   "mimetype": "text/x-python",
   "name": "python",
   "nbconvert_exporter": "python",
   "pygments_lexer": "ipython3",
   "version": "3.10.10"
  },
  "orig_nbformat": 4
 },
 "nbformat": 4,
 "nbformat_minor": 2
}
